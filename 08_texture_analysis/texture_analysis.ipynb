{
 "cells": [
  {
   "cell_type": "markdown",
   "source": [
    "# Texture Analysis"
   ],
   "metadata": {}
  },
  {
   "cell_type": "markdown",
   "source": [
    "## Part A\r\n",
    "\r\n",
    "### Objective\r\n",
    "\r\n",
    "The goal of this part is to segment the following photo into 3 segments: \r\n",
    "1. a segment for clothes with a jeans texture\r\n",
    "2. a segment for clothes with a cotton texture\r\n",
    "3. a segment for the background\r\n",
    "\r\n",
    "<img src='test.jpg' width=100px heigth=300px></img>"
   ],
   "metadata": {}
  },
  {
   "cell_type": "code",
   "execution_count": 1,
   "source": [
    "from skimage.feature import greycomatrix, greycoprops\r\n",
    "from skimage import io\r\n",
    "from skimage.color import rgb2gray\r\n",
    "import matplotlib.pyplot as plt\r\n",
    "import numpy as np\r\n",
    "\r\n",
    "import os"
   ],
   "outputs": [],
   "metadata": {}
  },
  {
   "cell_type": "markdown",
   "source": [
    "## Section 1\r\n",
    "\r\n",
    "In this section, we will extract features from image samples of the jeans and cotton texture using GLCM, then we will plot our feature space to see if our features are able to differentiate between the textures of jeans, cotton, and background. "
   ],
   "metadata": {}
  },
  {
   "cell_type": "code",
   "execution_count": 2,
   "source": [
    "def get_glcm_features(gray_scale_img):\r\n",
    "    \"\"\"\r\n",
    "    Given a grayscale image with graylevels from 0 - 255, this function returns the contrast\r\n",
    "    and the homogeneity features of the image with the help of GLCM\r\n",
    "    \"\"\"\r\n",
    "    glcm = greycomatrix(gray_scale_img, distances=[1], angles=[0], levels=256)\r\n",
    "    contrast = greycoprops(glcm, prop='contrast')\r\n",
    "    homogeneity = greycoprops(glcm, prop='homogeneity')\r\n",
    "    \r\n",
    "    return contrast, homogeneity"
   ],
   "outputs": [],
   "metadata": {}
  },
  {
   "cell_type": "code",
   "execution_count": 3,
   "source": [
    "def get_fname_images_tuple(directory):\r\n",
    "    \"\"\"\r\n",
    "    Returns a tuple of the filenames of the images in the given directory\r\n",
    "    \"\"\"\r\n",
    "    \r\n",
    "    files = os.listdir(directory)\r\n",
    "    images = []\r\n",
    "    for filename in files:\r\n",
    "        if filename[-3:] == 'jpg':\r\n",
    "            path = os.path.join(directory, filename)\r\n",
    "            gray_scale_image = (rgb2gray(io.imread(path)) * 255).astype(np.uint8)\r\n",
    "            images.append((filename, gray_scale_image))\r\n",
    "        else:\r\n",
    "            print('This file has been skipped', filename)\r\n",
    "            \r\n",
    "    return images"
   ],
   "outputs": [],
   "metadata": {}
  },
  {
   "cell_type": "code",
   "execution_count": 4,
   "source": [
    "def plot_2d_features_with_names(names_fts_list, xlabel, ylabel):\r\n",
    "    \"\"\"\r\n",
    "    Plot the 2D features of the images in the given list\r\n",
    "    \"\"\"\r\n",
    "    x = [names_fts[1][0] for names_fts in names_fts_list]\r\n",
    "    y = [names_fts[1][1] for names_fts in names_fts_list]\r\n",
    "    txts = [names_fts[0] for names_fts in names_fts_list]\r\n",
    "    \r\n",
    "    fig, ax = plt.subplots()\r\n",
    "    ax.scatter(x, y)\r\n",
    "\r\n",
    "    for i, txt in enumerate(txts):\r\n",
    "        ax.annotate('', (x[i], y[i]))\r\n",
    "    \r\n",
    "    ax.grid()\r\n",
    "    ax.set_xlabel(xlabel)\r\n",
    "    ax.set_ylabel(ylabel)\r\n",
    "    fig = plt.gcf()\r\n",
    "    fig.set_size_inches(13, 8)"
   ],
   "outputs": [],
   "metadata": {}
  },
  {
   "cell_type": "code",
   "execution_count": 5,
   "source": [
    "image_files = get_fname_images_tuple('./imgs_patches')\r\n",
    "\r\n",
    "filename_features_list = []\r\n",
    "for fn, img in image_files:\r\n",
    "    filename_features_list.append((fn, get_glcm_features(img)))\r\n",
    "    \r\n",
    "plot_2d_features_with_names(filename_features_list, 'contrast', 'homogeneity')"
   ],
   "outputs": [
    {
     "output_type": "display_data",
     "data": {
      "image/png": "[encoded data removed]",
      "text/plain": [
       "<Figure size 936x576 with 1 Axes>"
      ]
     },
     "metadata": {
      "needs_background": "light"
     }
    }
   ],
   "metadata": {}
  },
  {
   "cell_type": "markdown",
   "source": [
    "## Section 2\r\n",
    "\r\n",
    "In this section, we will classify an unknown patch into one of those categories using a simple rule-based classifier. This will make us able to segment an image."
   ],
   "metadata": {}
  },
  {
   "cell_type": "code",
   "execution_count": 6,
   "source": [
    "def classify_patch(contrast, homogeneity):\r\n",
    "    \"\"\"\r\n",
    "    Given the contrast and homogeneity values of a certain image patch, this function \r\n",
    "    will return the class of the patch, i.e either 'jeans', 'cotton', or 'background'\r\n",
    "    \"\"\"\r\n",
    "    if contrast < 200 and homogeneity < 0.7:\r\n",
    "        return 'cotton'\r\n",
    "    elif contrast < 200 and homogeneity >= 0.7:\r\n",
    "        return 'background'\r\n",
    "    else:\r\n",
    "        return 'jeans'\r\n"
   ],
   "outputs": [],
   "metadata": {}
  },
  {
   "cell_type": "code",
   "execution_count": 7,
   "source": [
    "def segment_img(image):\r\n",
    "    img = image.copy()\r\n",
    "    patch_height = patch_width = 50\r\n",
    "    \r\n",
    "    # loop on the image patch by patch\r\n",
    "    for i in range(patch_height, image.shape[0], patch_height):\r\n",
    "        for j in range(patch_width, image.shape[1], patch_width):\r\n",
    "    \r\n",
    "            patch = img[i-patch_height:i, j-patch_width:j]\r\n",
    "            \r\n",
    "            patch_grayscale = (rgb2gray(patch) * 255).astype(np.uint8)\r\n",
    "            \r\n",
    "            contrast, homogeneity = get_glcm_features(patch_grayscale)\r\n",
    "            classification = classify_patch(contrast, homogeneity)\r\n",
    "            \r\n",
    "            if classification == 'cotton':\r\n",
    "                patch[:,:, 0] = 255\r\n",
    "            elif classification == 'jeans':\r\n",
    "                patch[:,:, 1] = 255\r\n",
    "            else:\r\n",
    "                patch[:,:,2] = 255\r\n",
    "                \r\n",
    "    return img"
   ],
   "outputs": [],
   "metadata": {}
  },
  {
   "cell_type": "code",
   "execution_count": 8,
   "source": [
    "def segment_img(image):\r\n",
    "    segmented_img = image.copy()\r\n",
    "    patch_height = patch_width = 50\r\n",
    "    \r\n",
    "    # loop on the image patch by patch\r\n",
    "    for i in range(patch_height, image.shape[0], patch_height):\r\n",
    "        for j in range(patch_width, image.shape[1], patch_width):\r\n",
    "    \r\n",
    "            # get the patch features\r\n",
    "            patch = segmented_img[i-patch_height:i, j-patch_width:j]            \r\n",
    "            patch_grayscale = (rgb2gray(patch) * 255).astype(np.uint8)\r\n",
    "            contrast, homogeneity = get_glcm_features(patch_grayscale)\r\n",
    "            \r\n",
    "            # classify the patch\r\n",
    "            classification = classify_patch(contrast, homogeneity)\r\n",
    "            \r\n",
    "            # draw the patch on the segmented image\r\n",
    "            if classification == 'cotton':\r\n",
    "                patch[:,:, 0] = 255\r\n",
    "            elif classification == 'jeans':\r\n",
    "                patch[:,:, 1] = 255\r\n",
    "            else:\r\n",
    "                patch[:,:,2] = 255\r\n",
    "                \r\n",
    "    return segmented_img"
   ],
   "outputs": [],
   "metadata": {}
  },
  {
   "cell_type": "code",
   "execution_count": 9,
   "source": [
    "image = io.imread('test.jpg')\r\n",
    "segmented_image = segment_img(image)\r\n",
    "io.imshow(segmented_image)"
   ],
   "outputs": [
    {
     "output_type": "execute_result",
     "data": {
      "text/plain": [
       "<matplotlib.image.AxesImage at 0x1cdd5a00c08>"
      ]
     },
     "metadata": {},
     "execution_count": 9
    },
    {
     "output_type": "display_data",
     "data": {
      "image/png": "[encoded data removed]",
      "text/plain": [
       "<Figure size 432x288 with 1 Axes>"
      ]
     },
     "metadata": {
      "needs_background": "light"
     }
    }
   ],
   "metadata": {}
  },
  {
   "cell_type": "markdown",
   "source": [
    "## Part B\r\n",
    "\r\n",
    "We will implement our own function that computes the LBP histogram of a grayscale image"
   ],
   "metadata": {}
  },
  {
   "cell_type": "code",
   "execution_count": 10,
   "source": [
    "def get_lbp_hist(grayscale_img):\r\n",
    "    \"\"\"\r\n",
    "    Returns the LBP histogram of the given grayscale image\r\n",
    "    It uses the radius of 1, the number of points to consider as 8\r\n",
    "    \"\"\"\r\n",
    "    lbp_hist=np.zeros(256)\r\n",
    "    \r\n",
    "    for i in range(1,grayscale_img.shape[0]-1):\r\n",
    "        for j in range(1,grayscale_img.shape[1]-1):\r\n",
    "            number = 0\r\n",
    "            center = grayscale_img[i,j]\r\n",
    "            \r\n",
    "            if grayscale_img[i-1, j-1] > center: number += 128\r\n",
    "            if grayscale_img[i-1, j] > center: number += 64\r\n",
    "            if grayscale_img[i-1, j+1] > center: number += 32\r\n",
    "            if grayscale_img[i, j+1] > center: number += 16\r\n",
    "            if grayscale_img[i+1, j+1] > center: number += 8\r\n",
    "            if grayscale_img[i+1, j] > center: number += 4\r\n",
    "            if grayscale_img[i+1, j-1] > center: number += 2\r\n",
    "            if grayscale_img[i, j-1] > center: number += 1\r\n",
    "            \r\n",
    "            lbp_hist[number] += 1\r\n",
    "            \r\n",
    "    return lbp_hist "
   ],
   "outputs": [],
   "metadata": {}
  },
  {
   "cell_type": "code",
   "execution_count": 11,
   "source": [
    "# get the histogram of the jeans image\r\n",
    "img = rgb2gray(io.imread('./imgs_patches/jeans1.jpg'))\r\n",
    "hist = get_lbp_hist(img)\r\n",
    "plt.hist(hist, bins=range((2 ** 8)))\r\n",
    "'ignore function output'"
   ],
   "outputs": [
    {
     "output_type": "execute_result",
     "data": {
      "text/plain": [
       "'ignore function output'"
      ]
     },
     "metadata": {},
     "execution_count": 11
    },
    {
     "output_type": "display_data",
     "data": {
      "image/png": "[encoded data removed]",
      "text/plain": [
       "<Figure size 432x288 with 1 Axes>"
      ]
     },
     "metadata": {
      "needs_background": "light"
     }
    }
   ],
   "metadata": {}
  },
  {
   "cell_type": "code",
   "execution_count": 12,
   "source": [
    "# get the histogram of the cotton image\r\n",
    "img = rgb2gray(io.imread('./imgs_patches/cotton1.jpg'))\r\n",
    "hist = get_lbp_hist(img)\r\n",
    "plt.hist(hist, bins=range((2 ** 8)))\r\n",
    "'ignore function output'"
   ],
   "outputs": [
    {
     "output_type": "execute_result",
     "data": {
      "text/plain": [
       "'ignore function output'"
      ]
     },
     "metadata": {},
     "execution_count": 12
    },
    {
     "output_type": "display_data",
     "data": {
      "image/png": "[encoded data removed]",
      "text/plain": [
       "<Figure size 432x288 with 1 Axes>"
      ]
     },
     "metadata": {
      "needs_background": "light"
     }
    }
   ],
   "metadata": {}
  },
  {
   "cell_type": "markdown",
   "source": [
    "As we can see there is a noticable difference between the histograms of jeans and cotton"
   ],
   "metadata": {}
  },
  {
   "cell_type": "code",
   "execution_count": null,
   "source": [],
   "outputs": [],
   "metadata": {}
  }
 ],
 "metadata": {
  "kernelspec": {
   "name": "python3",
   "display_name": "Python 3.7.6 64-bit ('base': conda)"
  },
  "language_info": {
   "codemirror_mode": {
    "name": "ipython",
    "version": 3
   },
   "file_extension": ".py",
   "mimetype": "text/x-python",
   "name": "python",
   "nbconvert_exporter": "python",
   "pygments_lexer": "ipython3",
   "version": "3.7.6"
  },
  "interpreter": {
   "hash": "6bf67eb5649b087681366e5c87d7551c4ee35afbc53ff41b1cc832c704232f8c"
  }
 },
 "nbformat": 4,
 "nbformat_minor": 2
}